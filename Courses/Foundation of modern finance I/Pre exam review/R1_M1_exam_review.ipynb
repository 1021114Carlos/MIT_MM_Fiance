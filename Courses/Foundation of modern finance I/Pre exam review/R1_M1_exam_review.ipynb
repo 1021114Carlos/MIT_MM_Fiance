{
  "nbformat": 4,
  "nbformat_minor": 0,
  "metadata": {
    "colab": {
      "private_outputs": true,
      "provenance": [],
      "authorship_tag": "ABX9TyMBUPlyME6DLqOeiRuTcg9E",
      "include_colab_link": true
    },
    "kernelspec": {
      "name": "python3",
      "display_name": "Python 3"
    },
    "language_info": {
      "name": "python"
    }
  },
  "cells": [
    {
      "cell_type": "markdown",
      "metadata": {
        "id": "view-in-github",
        "colab_type": "text"
      },
      "source": [
        "<a href=\"https://colab.research.google.com/github/1021114Carlos/MIT_MM_Finance/blob/Finance-shop/Courses/Foundation%20of%20modern%20finance%20I/Pre%20exam%20review/R1_M1_exam_review.ipynb\" target=\"_parent\"><img src=\"https://colab.research.google.com/assets/colab-badge.svg\" alt=\"Open In Colab\"/></a>"
      ]
    },
    {
      "cell_type": "code",
      "source": [
        "from math import sqrt"
      ],
      "metadata": {
        "id": "y1SFrx-50JFD"
      },
      "execution_count": null,
      "outputs": []
    },
    {
      "cell_type": "markdown",
      "source": [
        "1\n",
        "\n",
        "Transaction:\n",
        "- Purchased \\$200000\n",
        "- Expected future value of purchase $300000\n",
        "- Gross and net return?\n",
        "\n",
        "Gross return = $\\frac{future \\ value}{pv} $\n",
        "\n",
        "net return = $ \\frac{future \\ value \\ - \\ pv}{pv} = \\frac{future \\ value}{pv} - 1 $\n"
      ],
      "metadata": {
        "id": "PcyV_L79YVWy"
      }
    },
    {
      "cell_type": "code",
      "execution_count": null,
      "metadata": {
        "id": "uiq1ecloYFO7"
      },
      "outputs": [],
      "source": [
        "purchase = 200000\n",
        "expected_value = 300000\n",
        "\n",
        "# Gross return\n",
        "gross_ret = expected_value/ purchase\n",
        "\n",
        "# Net return\n",
        "net_ret = gross_ret - 1\n",
        "f'Gross return and and Expected return on this purchase: {gross_ret}% and {net_ret}%'"
      ]
    },
    {
      "cell_type": "markdown",
      "source": [
        "Expected return and volatility\n",
        "\n",
        "- Current price \\$32\n",
        "\n",
        "Probability distribution in one year:\n",
        "\n",
        "      Probability  | Price in one year\n",
        "          10%      |        $150\n",
        "          60%      |        $20\n",
        "          30%      |        $2\n",
        "\n",
        "Expeted Return?"
      ],
      "metadata": {
        "id": "RXXYzk3ZkyQG"
      }
    },
    {
      "cell_type": "code",
      "source": [
        "# Calculate expected returns\n",
        "r1, r2, r3 = 10/100, 60/100, 30/100\n",
        "\n",
        "# first find net returns\n",
        "net_ret1 = (150/32) - 1\n",
        "net_ret2 = (20/32) - 1\n",
        "net_ret3 = (2/32) - 1\n",
        "\n",
        "exp_ret1 = r1*net_ret1\n",
        "exp_ret2 = r2*net_ret2\n",
        "exp_ret3 = r3*net_ret3\n",
        "\n",
        "Expected_return = exp_ret1 + exp_ret2 + exp_ret3\n",
        "\n",
        "f'Expected returns {round((Expected_return)*100, 6)}%'"
      ],
      "metadata": {
        "id": "E3-bS5p-jiNw"
      },
      "execution_count": null,
      "outputs": []
    },
    {
      "cell_type": "markdown",
      "source": [
        "Alternative approach to compute expected return\n",
        "\n",
        "- expected price = $probability*price + probability*price...$\n",
        "- expected return = $ \\frac{expected \\ price}{current \\ price} - 1 $\n"
      ],
      "metadata": {
        "id": "3kVYH-khpH7h"
      }
    },
    {
      "cell_type": "code",
      "source": [
        "exp_price = r1*150 + r2*20 + r3*2\n",
        "\n",
        "expected_return2 = (exp_price/32) - 1\n",
        "print(round((expected_return2), 4),\"%\")"
      ],
      "metadata": {
        "id": "J4qFNLrSnJ17"
      },
      "execution_count": null,
      "outputs": []
    },
    {
      "cell_type": "markdown",
      "source": [
        "Volatility\n",
        "\n",
        "$ Var[r] = E[(r - E(r))^2 = \\sum p_i*(r_i - E(r))^2 $"
      ],
      "metadata": {
        "id": "XJ3I8ipGw_iP"
      }
    },
    {
      "cell_type": "code",
      "source": [
        "# Variance of return\n",
        "var = r1*(net_ret1 - expected_return2)**2 + r2*(net_ret2 - expected_return2)**2 + r3*(net_ret3 - expected_return2)**2\n",
        "round(var, 4)"
      ],
      "metadata": {
        "id": "vf9jbO_owfaL"
      },
      "execution_count": null,
      "outputs": []
    },
    {
      "cell_type": "markdown",
      "source": [
        "Standard deviation is a squared root of variance."
      ],
      "metadata": {
        "id": "ga24OZ93zl3Z"
      }
    },
    {
      "cell_type": "code",
      "source": [
        "# Calculate Standard deviation\n",
        "# Standard deviation refers to volatility of return\n",
        "sd = sqrt(var)\n",
        "print(round((sd)*100, 4), \"%\")"
      ],
      "metadata": {
        "id": "3sorg5Kxyp0j"
      },
      "execution_count": null,
      "outputs": []
    },
    {
      "cell_type": "markdown",
      "source": [
        "##Assignment:"
      ],
      "metadata": {
        "id": "wnizzGGu2Ct9"
      }
    },
    {
      "cell_type": "markdown",
      "source": [
        "Two projects A and B\n",
        "\n",
        "Project A:\n",
        "- Investment of \\$100\n",
        "- Yields sure CF of \\$110 in year 1. in Argentina's pesos\n",
        "\n",
        "Project B:\n",
        "- Investment of \\$100\n",
        "- Yields sure CF of \\$110 in one year. In British pounds\n",
        "\n",
        "in the market, the 1-year risk-free interest rate is 15% for the Peso and 5% for the pound.\n"
      ],
      "metadata": {
        "id": "-Cwymn6u2Lzf"
      }
    },
    {
      "cell_type": "code",
      "source": [
        "# Invest in project A?\n",
        "pv = 100\n",
        "fv = 110\n",
        "r_A = 15/100\n",
        "net_ret_A = (fv/pv - 1)\n",
        "\n",
        "print(f'net return for the Peso is {round(net_ret_A, 3)}, which is  < than the 1-year risk-free rate\\n')\n",
        "\n",
        "# Invest in project B?\n",
        "r_B = 5/100\n",
        "net_ret_B = (fv/pv - 1)\n",
        "\n",
        "print(f'net return for the Pound is {round(net_ret_B, 3)} >  than the 1-year risk-free rate\\n')\n",
        "print(\"Project B net return is higher than the 1-year risk-free rate which is at 5%. Taking project B makes more sense.\\n\")\n",
        "\n",
        "# if 1-year risk-free rate is 8% for the Peso?\n",
        "print(\"then take project A since the net return is now 2% higher than the 1-year risk-free rate\")"
      ],
      "metadata": {
        "id": "Y2rWEm7Z0Uy4"
      },
      "execution_count": null,
      "outputs": []
    },
    {
      "cell_type": "code",
      "source": [],
      "metadata": {
        "id": "OXH8PwIA4qh5"
      },
      "execution_count": null,
      "outputs": []
    }
  ]
}