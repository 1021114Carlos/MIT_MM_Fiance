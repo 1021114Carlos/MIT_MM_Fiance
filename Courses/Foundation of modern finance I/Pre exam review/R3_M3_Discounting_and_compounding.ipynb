{
  "nbformat": 4,
  "nbformat_minor": 0,
  "metadata": {
    "colab": {
      "private_outputs": true,
      "provenance": [],
      "authorship_tag": "ABX9TyOXiWqqEPMANqUw/BpEO2eg",
      "include_colab_link": true
    },
    "kernelspec": {
      "name": "python3",
      "display_name": "Python 3"
    },
    "language_info": {
      "name": "python"
    }
  },
  "cells": [
    {
      "cell_type": "markdown",
      "metadata": {
        "id": "view-in-github",
        "colab_type": "text"
      },
      "source": [
        "<a href=\"https://colab.research.google.com/github/1021114Carlos/MIT_MM_Finance/blob/Finance-shop/Courses/Foundation%20of%20modern%20finance%20I/Pre%20exam%20review/R3_M3_Discounting_and_compounding.ipynb\" target=\"_parent\"><img src=\"https://colab.research.google.com/assets/colab-badge.svg\" alt=\"Open In Colab\"/></a>"
      ]
    },
    {
      "cell_type": "code",
      "source": [
        "import math"
      ],
      "metadata": {
        "id": "pi4WNL3jhV2r"
      },
      "execution_count": null,
      "outputs": []
    },
    {
      "cell_type": "markdown",
      "source": [
        "## R3"
      ],
      "metadata": {
        "id": "_51rSAOhWZgm"
      }
    },
    {
      "cell_type": "markdown",
      "source": [
        "(a) Amount to deposit?\n",
        "\n",
        "- Perpetuity\n",
        "\n",
        "$ A*\\frac{1}{r}*\\left(1 - \\frac{1}{(1 + r)^t}\\right) $"
      ],
      "metadata": {
        "id": "b8MPgWaAZWR9"
      }
    },
    {
      "cell_type": "code",
      "execution_count": null,
      "metadata": {
        "id": "EaOBsxZaAgnK"
      },
      "outputs": [],
      "source": [
        "# Amount to deposit today in savings account at 5% interest rate to pay loan\n",
        "payments = 2300\n",
        "interest_rate = 5/100\n",
        "time = 10\n",
        "pv = (payments/interest_rate)*(1 - (1/(1 + interest_rate)**time))\n",
        "f'The amount needed to deposit today to repay the loan is: ${round(pv, 4)}'\n",
        "\n",
        "# Part (b) is done in Google spreadsheet"
      ]
    },
    {
      "cell_type": "markdown",
      "source": [
        "2\n",
        "\n",
        "(a) PV of today's deposit. Next payment is in 6 years and last payment in 15 years.\n",
        "\n",
        "- This stream of CF's is an example of delayed annuity.\n",
        "* To find PV of a delayed annuity that starts paying in year N, do the following:\n",
        "\n",
        "1. Use annuity formula to its value in year N-1\n",
        "2. Discount year N-1 value to Present, i.e, year 0"
      ],
      "metadata": {
        "id": "KD7J5yP0TKrk"
      }
    },
    {
      "cell_type": "code",
      "source": [
        "interest_rate = 5/100\n",
        "payment = 2300\n",
        "years = 10\n",
        "dollar_value_year6 = (payment/(interest_rate))*(1 - (1/(1 + interest_rate)**years))\n",
        "\n",
        "pv_now = dollar_value_year6/(1 + interest_rate)**5\n",
        "f'The PV of this payment is: ${round(pv_now, 4)}'\n",
        "\n",
        "# Part (b) done in google spreadsheet"
      ],
      "metadata": {
        "id": "X2pOUqJUMO_Z"
      },
      "execution_count": null,
      "outputs": []
    },
    {
      "cell_type": "markdown",
      "source": [
        "3\n",
        "\n",
        "PV(Annuity with growth) = $ A*\\frac{1}{r - g}*\\left(1 - (\\frac{1 + g}{1 + r})^t\\right)  $"
      ],
      "metadata": {
        "id": "75MOVhJ_bZCz"
      }
    },
    {
      "cell_type": "code",
      "source": [
        "discount_rate = 9/100 # discount rate = opportunity cost of capital\n",
        "cf_1 = 5000000\n",
        "yearly_growth_rate = 4/100\n",
        "years = 15\n",
        "\n",
        "# PV\n",
        "pv_0 = (cf_1/(discount_rate - yearly_growth_rate))*(1 - ((1 + yearly_growth_rate)/(1 + discount_rate))**years)\n",
        "f\"The PV using annuity formula is: ${round(pv_0, 4)}\""
      ],
      "metadata": {
        "id": "UpokP4WgUlbd"
      },
      "execution_count": null,
      "outputs": []
    },
    {
      "cell_type": "markdown",
      "source": [
        "4 (a)\n",
        "- Rental profit in perpetuity.\n",
        "\n",
        "PV(Perpetuity) = $ \\frac{A}{r} $"
      ],
      "metadata": {
        "id": "wU54fbyEjmpt"
      }
    },
    {
      "cell_type": "code",
      "source": [
        "discount_rate = 7/100\n",
        "annual_rental_profit = 65000\n",
        "\n",
        "# PV of property in perpetuity\n",
        "pv_property = annual_rental_profit/discount_rate\n",
        "f'This property will generate ${pv_property} in perpetuity.'"
      ],
      "metadata": {
        "id": "YPIW9ZWCd-v1"
      },
      "execution_count": null,
      "outputs": []
    },
    {
      "cell_type": "markdown",
      "source": [
        "(b)"
      ],
      "metadata": {
        "id": "jy2TUctXl8t5"
      }
    },
    {
      "cell_type": "code",
      "source": [
        "# Spend first 4 years redeveloping the property.\n",
        "# Start making profit from year 5 and in perpetuity\n",
        "redeveloping_cost = 1000000\n",
        "rental_profit_year5 = 950000\n",
        "\n",
        "# Delay perpetuity\n",
        "pv_year5 = (1/(1 + discount_rate)**4)*(rental_profit_year5/discount_rate)\n",
        "\n",
        "# Subtract redeveloping cost\n",
        "property_value = pv_year5 - redeveloping_cost\n",
        "print(f'After delaying profits for four years, the property generates ${round(property_value, 4)} in perpetuity. \\nWaiting four years will generate higher revenue in perpetuity.')"
      ],
      "metadata": {
        "id": "ZNF7_IWIlhht"
      },
      "execution_count": null,
      "outputs": []
    },
    {
      "cell_type": "markdown",
      "source": [
        "5 (a)\n",
        "* Perpetuity(no growth)\n",
        "\n",
        "PV = $ \\frac{C}{1 + r} + \\frac{C}{(1 + r)^2} + \\frac{C}{(1 + r)^3} + ... = \\frac{C}{r} $"
      ],
      "metadata": {
        "id": "svy7oGG10Oo1"
      }
    },
    {
      "cell_type": "code",
      "source": [
        "# First distribution of funds happens one year from now.\n",
        "nominal_rate = 8/100\n",
        "donation = 10000000000\n",
        "\n",
        "distribution = donation*nominal_rate\n",
        "f'The annual distribution is ${distribution} millions'"
      ],
      "metadata": {
        "id": "cxlr6OtYo4Id"
      },
      "execution_count": null,
      "outputs": []
    },
    {
      "cell_type": "markdown",
      "source": [
        "(b)\n",
        "\n",
        "PV = $ C + \\frac{C}{1 + r} + \\frac{C}{(1 + r)^2} + \\frac{C}{(1 + r)^3} + ... = C + \\frac{C}{r} $  "
      ],
      "metadata": {
        "id": "109kV-vt3qLn"
      }
    },
    {
      "cell_type": "code",
      "source": [
        "# Start distribution of now.\n",
        "# pv = c + (c/r) -> c(1 + 1/r) -> c = pv/(1 + 1/r)\n",
        "pv_funds = donation/(1 + (1/nominal_rate))\n",
        "print(f\"The annula distribution would be ${pv_funds} which is less that the distribution in part (a) \\n it is better to delay distribution for one year.\")"
      ],
      "metadata": {
        "id": "Bz2PLIIEvHDE"
      },
      "execution_count": null,
      "outputs": []
    },
    {
      "cell_type": "markdown",
      "source": [
        "(c)\n",
        "\n",
        "$ PV = \\frac{C*(1 + i)}{1 + r} + \\frac{C*(1 + i)^2}{(1 + r)^2} + \\frac{C*(1 + i)^3}{(1 + r)^3} + ... (1 + i)\\left(\\frac{C}{1 +r} + \\frac{C*(1 + i)}{(1 + r)^2} + \\frac{C*(1 + i)^2}{(1 + r)^3} +...\\right) -> (1 + i)\\frac{C}{r - i} $"
      ],
      "metadata": {
        "id": "ou3h6m4C9sDZ"
      }
    },
    {
      "cell_type": "code",
      "source": [
        "# Preserving purchasing power. Waiting one year for first distribution.\n",
        "inflation = 2/100\n",
        "\n",
        "pv_funds_purch_power = ((nominal_rate-inflation)*donation)/(1 + inflation)\n",
        "f\"${pv_funds_purch_power} is the amount to pay to guarantee adjustments for inflation.\""
      ],
      "metadata": {
        "id": "xAat6Zz74LGq"
      },
      "execution_count": null,
      "outputs": []
    },
    {
      "cell_type": "markdown",
      "source": [
        "6 (a)\n",
        "- APR and EAR\n",
        "\n",
        "$ I =  \\left(1 + \\frac{R_{apr}}{k}   \\right)^k $\n",
        "\n",
        "$ (1 + r_{ear}) =  I - 1 $"
      ],
      "metadata": {
        "id": "v2JWkVaeZ4ma"
      }
    },
    {
      "cell_type": "code",
      "source": [
        "# APR compounded monthly. Find EAR.\n",
        "apr = 20/100\n",
        "k_m = 1*12\n",
        "ear = (1 + apr/k_m)**k_m - 1\n",
        "f'The monthly effective annual rate is {round((ear)*100, 4)}%'"
      ],
      "metadata": {
        "id": "ddWNAoquYP_g"
      },
      "execution_count": null,
      "outputs": []
    },
    {
      "cell_type": "markdown",
      "source": [
        "(b)"
      ],
      "metadata": {
        "id": "2mHeVvgsvKxw"
      }
    },
    {
      "cell_type": "code",
      "source": [
        "# APR Compounded daily.\n",
        "k_d = 1*365\n",
        "ear = 25/100\n",
        "apr = ((1 + ear)**(1/k_d) - 1)*k_d\n",
        "\n",
        "f'To earn an EAR of {round((ear)*100, 4)}% the optimal frequency of compounding to present a low APR of {round((apr)*100, 4)}%'"
      ],
      "metadata": {
        "id": "SfNhmnqGcgJX"
      },
      "execution_count": null,
      "outputs": []
    },
    {
      "cell_type": "markdown",
      "source": [
        "7 (a)"
      ],
      "metadata": {
        "id": "3lJDXvHTvQBC"
      }
    },
    {
      "cell_type": "code",
      "source": [
        "# Refinicing a loan. Compounding period is monthly\n",
        "mortgage = 300000\n",
        "maturity = 20\n",
        "ear = 6/100\n",
        "\n",
        "# Refinincing with new apr.\n",
        "apr = 4.5/100\n",
        "\n",
        "# Compute monthly interest rate on old and new loans and the change in monthly payments.\n",
        "k = 12\n",
        "monthly_rate_old_apr = (((1 + ear)**(1/k)) - 1)\n",
        "monthly_rate_new_apr = apr/k\n",
        "\n",
        "# old monthly payment\n",
        "old_monthly_payments = mortgage/((1/monthly_rate_old_apr)*(1 - (1/(1 + monthly_rate_old_apr)**(k*maturity))))\n",
        "print(f\"Monthly payment amount with older apr ${round(old_monthly_payments, 4)}\")\n",
        "\n",
        "# New monthly payment\n",
        "new_monthly_payments = mortgage/((1/monthly_rate_new_apr)*(1 - (1/(1 + monthly_rate_new_apr)**(k*maturity))))\n",
        "print(f\"Monthly payment amount with new apr ${round(new_monthly_payments, 4)}\")"
      ],
      "metadata": {
        "id": "Fkn9WFuUrCL5"
      },
      "execution_count": null,
      "outputs": []
    },
    {
      "cell_type": "markdown",
      "source": [
        "(b)"
      ],
      "metadata": {
        "id": "gl85Ll_8ziVY"
      }
    },
    {
      "cell_type": "code",
      "source": [
        "# interest compounded monthly\n",
        "new_loan = (old_monthly_payments/monthly_rate_new_apr)*(1 - (1/(1 + monthly_rate_new_apr)**(k*maturity)))\n",
        "new_loan"
      ],
      "metadata": {
        "id": "o5gJ25E523lR"
      },
      "execution_count": null,
      "outputs": []
    },
    {
      "cell_type": "markdown",
      "source": [
        "# M3"
      ],
      "metadata": {
        "id": "2cj1jS_w3yFQ"
      }
    },
    {
      "cell_type": "markdown",
      "source": [
        "1\n",
        "\n",
        "- Inheritance\n",
        "\n",
        "PV(Annuity) = $ A\\frac{1}{r}*\\left (1 - \\frac{1}{(1 + r)^t}\\right)  $"
      ],
      "metadata": {
        "id": "ZCvahpEh321K"
      }
    },
    {
      "cell_type": "code",
      "source": [
        "# PV for inheritance\n",
        "years = 5\n",
        "ir = 8/100\n",
        "payment = 6000\n",
        "\n",
        "# First payment in year 4\n",
        "pv_4 = (payment/ir)*(1 - 1/(1 + ir)**years)\n",
        "\n",
        "# PV now\n",
        "pv_0 = (pv_4/(1 + ir)**3)\n",
        "f'The PV of this inheritance payment in year 4 is ${round(pv_0, 4)}'"
      ],
      "metadata": {
        "id": "tt9GJmq7Am2U"
      },
      "execution_count": null,
      "outputs": []
    },
    {
      "cell_type": "markdown",
      "source": [
        "2\n",
        "\n",
        "- Perpetuity\n",
        "\n",
        "PV(Perpetuity) $ \\frac{A}{r} $"
      ],
      "metadata": {
        "id": "ZgMpgo783tdT"
      }
    },
    {
      "cell_type": "code",
      "source": [
        "# First payment in year 0. Find PV\n",
        "monthly_donation = 350000\n",
        "ir = 7/100\n",
        "\n",
        "pv = monthly_donation + monthly_donation/ir\n",
        "f'The PV of this donation in year 0 is ${round(pv, 4)}'"
      ],
      "metadata": {
        "id": "KQufQQNI_9zq"
      },
      "execution_count": null,
      "outputs": []
    },
    {
      "cell_type": "markdown",
      "source": [
        "3 (a)\n",
        "\n",
        "- PV(Annuity) = $ A*\\frac{1}{r}*\\left (1 - \\frac{1}{(1 + r)^t}\\right) $"
      ],
      "metadata": {
        "id": "etKhYmYmDZZb"
      }
    },
    {
      "cell_type": "code",
      "source": [
        "salary = 60000\n",
        "disc_r = 9/100\n",
        "g_r = 4/100\n",
        "time = 31\n",
        "tuition = 70000\n",
        "\n",
        "# PV with no degree.\n",
        "pv_1 = (salary/disc_r)*(1 - 1/(1 + disc_r)**time)\n",
        "print(f'The PV of the salary without a degree is ${round(pv_1, 4)}')"
      ],
      "metadata": {
        "id": "1hPyRTWEBgdF"
      },
      "execution_count": null,
      "outputs": []
    },
    {
      "cell_type": "markdown",
      "source": [
        "(b)"
      ],
      "metadata": {
        "id": "px6PQpatHNR2"
      }
    },
    {
      "cell_type": "code",
      "source": [
        "a = (tuition/(1 + disc_r))**2\n",
        "a"
      ],
      "metadata": {
        "id": "aRhMdxCwTiIZ"
      },
      "execution_count": null,
      "outputs": []
    },
    {
      "cell_type": "code",
      "source": [
        "# PV of degree's tuition cost\n",
        "\n",
        "pv_tuition = (tuition/(1 + disc_r) + tuition/(1 + disc_r)**2\n",
        "f'The PV of tuition cost is ${pv_tuition}'"
      ],
      "metadata": {
        "id": "LxsYW0bOGjET"
      },
      "execution_count": null,
      "outputs": []
    },
    {
      "cell_type": "markdown",
      "source": [
        "(c)\n",
        "\n",
        "* PV(Annuity with growth) = $ A*\\frac{1}{r-g}*\\left(1 - \\left(\\frac{1 + g}{1 + r}\\right)^t\\right)$"
      ],
      "metadata": {
        "id": "SbN6Io-6LZEE"
      }
    },
    {
      "cell_type": "code",
      "source": [
        "# Expected minimum salary after degree\n",
        "years = 60 - 31\n",
        "\n",
        "pv_salary = salary/(disc_r - g_r)*(1 - (1 + g_r/(1 + disc_r))**years)\n",
        "pv_salary"
      ],
      "metadata": {
        "id": "bbttagB6JQo7"
      },
      "execution_count": null,
      "outputs": []
    },
    {
      "cell_type": "code",
      "source": [],
      "metadata": {
        "id": "ohQjF90SKU0M"
      },
      "execution_count": null,
      "outputs": []
    }
  ]
}