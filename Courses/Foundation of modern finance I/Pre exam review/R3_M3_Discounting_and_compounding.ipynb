{
  "nbformat": 4,
  "nbformat_minor": 0,
  "metadata": {
    "colab": {
      "private_outputs": true,
      "provenance": [],
      "authorship_tag": "ABX9TyMWpEsjs5idoXSrF9WT5STy",
      "include_colab_link": true
    },
    "kernelspec": {
      "name": "python3",
      "display_name": "Python 3"
    },
    "language_info": {
      "name": "python"
    }
  },
  "cells": [
    {
      "cell_type": "markdown",
      "metadata": {
        "id": "view-in-github",
        "colab_type": "text"
      },
      "source": [
        "<a href=\"https://colab.research.google.com/github/1021114Carlos/MIT_MM_Finance/blob/Finance-shop/Courses/Foundation%20of%20modern%20finance%20I/Pre%20exam%20review/R3_M3_Discounting_and_compounding.ipynb\" target=\"_parent\"><img src=\"https://colab.research.google.com/assets/colab-badge.svg\" alt=\"Open In Colab\"/></a>"
      ]
    },
    {
      "cell_type": "code",
      "source": [
        "from math import sqrt"
      ],
      "metadata": {
        "id": "pi4WNL3jhV2r"
      },
      "execution_count": null,
      "outputs": []
    },
    {
      "cell_type": "markdown",
      "source": [
        "## R3"
      ],
      "metadata": {
        "id": "_51rSAOhWZgm"
      }
    },
    {
      "cell_type": "markdown",
      "source": [
        "(a) Amount to deposit?\n",
        "\n",
        "- Perpetuity\n",
        "\n",
        "$ A*\\frac{1}{r}*\\left(1 - \\frac{1}{(1 + r)^t}\\right) $"
      ],
      "metadata": {
        "id": "b8MPgWaAZWR9"
      }
    },
    {
      "cell_type": "code",
      "execution_count": null,
      "metadata": {
        "id": "EaOBsxZaAgnK"
      },
      "outputs": [],
      "source": [
        "# Amount to deposit today in savings account at 5% interest rate to pay loan\n",
        "payments = 2300\n",
        "interest_rate = 5/100\n",
        "time = 10\n",
        "pv = (payments/interest_rate)*(1 - (1/(1 + interest_rate)**time))\n",
        "f'The amount needed to deposit today to repay the loan is: ${round(pv, 4)}'\n",
        "\n",
        "# Part (b) is done in Google spreadsheet"
      ]
    },
    {
      "cell_type": "markdown",
      "source": [
        "2\n",
        "\n",
        "(a) PV of today's deposit. Next payment is in 6 years and last payment in 15 years.\n",
        "\n",
        "- This stream of CF's is an example of delayed annuity.\n",
        "* To find PV of a delayed annuity that starts paying in year N, do the following:\n",
        "\n",
        "1. Use annuity formula to its value in year N-1\n",
        "2. Discount year N-1 value to Present, i.e, year 0"
      ],
      "metadata": {
        "id": "KD7J5yP0TKrk"
      }
    },
    {
      "cell_type": "code",
      "source": [
        "interest_rate = 5/100\n",
        "payment = 2300\n",
        "years = 10\n",
        "dollar_value_year6 = (payment/(interest_rate))*(1 - (1/(1 + interest_rate)**years))\n",
        "\n",
        "pv_now = dollar_value_year6/(1 + interest_rate)**5\n",
        "f'The PV of this payment is: ${round(pv_now, 4)}'\n",
        "\n",
        "# Part (b) done in google spreadsheet"
      ],
      "metadata": {
        "id": "X2pOUqJUMO_Z"
      },
      "execution_count": null,
      "outputs": []
    },
    {
      "cell_type": "markdown",
      "source": [
        "3\n",
        "\n",
        "PV(Annuity with growth) = $ A*\\frac{1}{r - g}*\\left(1 - (\\frac{1 + g}{1 + r})^t\\right)  $"
      ],
      "metadata": {
        "id": "75MOVhJ_bZCz"
      }
    },
    {
      "cell_type": "code",
      "source": [
        "discount_rate = 9/100 # discount rate = opportunity cost of capital\n",
        "cf_1 = 5000000\n",
        "yearly_growth_rate = 4/100\n",
        "years = 15\n",
        "\n",
        "# PV\n",
        "pv_0 = (cf_1/(discount_rate - yearly_growth_rate))*(1 - ((1 + yearly_growth_rate)/(1 + discount_rate))**years)\n",
        "f\"The PV using annuity formula is: ${round(pv_0, 4)}\""
      ],
      "metadata": {
        "id": "UpokP4WgUlbd"
      },
      "execution_count": null,
      "outputs": []
    },
    {
      "cell_type": "markdown",
      "source": [
        "4 (a)\n",
        "- Rental profit in perpetuity.\n",
        "\n",
        "PV(Perpetuity) = $ \\frac{A}{r} $"
      ],
      "metadata": {
        "id": "wU54fbyEjmpt"
      }
    },
    {
      "cell_type": "code",
      "source": [
        "discount_rate = 7/100\n",
        "annual_rental_profit = 65000\n",
        "\n",
        "# PV of property in perpetuity\n",
        "pv_property = annual_rental_profit/discount_rate\n",
        "f'This property will generate ${pv_property} in perpetuity.'"
      ],
      "metadata": {
        "id": "YPIW9ZWCd-v1"
      },
      "execution_count": null,
      "outputs": []
    },
    {
      "cell_type": "markdown",
      "source": [
        "(b)"
      ],
      "metadata": {
        "id": "jy2TUctXl8t5"
      }
    },
    {
      "cell_type": "code",
      "source": [
        "# Spend first 4 years redeveloping the property.\n",
        "# Start making profit from year 5 and in perpetuity\n",
        "redeveloping_cost = 1000000\n",
        "rental_profit_year5 = 950000\n",
        "\n",
        "# Delay perpetuity\n",
        "pv_year5 = (1/(1 + discount_rate)**4)*(rental_profit_year5/discount_rate)\n",
        "\n",
        "# Subtract redeveloping cost\n",
        "property_value = pv_year5 - redeveloping_cost\n",
        "print(f'After delaying profits for four years, the property generates ${round(property_value, 4)} in perpetuity. \\nWaiting four years will generate higher revenue in perpetuity.')"
      ],
      "metadata": {
        "id": "ZNF7_IWIlhht"
      },
      "execution_count": null,
      "outputs": []
    },
    {
      "cell_type": "markdown",
      "source": [
        "5 (a)\n",
        "* Perpetuity(no growth)\n",
        "\n",
        "PV = $ \\frac{C}{1 + r} + \\frac{C}{(1 + r)^2} + \\frac{C}{(1 + r)^3} + ... = \\frac{C}{r} $"
      ],
      "metadata": {
        "id": "svy7oGG10Oo1"
      }
    },
    {
      "cell_type": "code",
      "source": [
        "# First distribution of funds happens one year from now.\n",
        "nominal_rate = 8/100\n",
        "donation = 10000000000\n",
        "\n",
        "distribution = donation*nominal_rate\n",
        "f'The annual distribution is ${distribution} millions'"
      ],
      "metadata": {
        "id": "cxlr6OtYo4Id"
      },
      "execution_count": null,
      "outputs": []
    },
    {
      "cell_type": "markdown",
      "source": [
        "(b)\n",
        "\n",
        "PV = $ C + \\frac{C}{1 + r} + \\frac{C}{(1 + r)^2} + \\frac{C}{(1 + r)^3} + ... = C + \\frac{C}{r} $  "
      ],
      "metadata": {
        "id": "109kV-vt3qLn"
      }
    },
    {
      "cell_type": "code",
      "source": [
        "# Start distribution of now.\n",
        "# pv = c + (c/r) -> c(1 + 1/r) -> c = pv/(1 + 1/r)\n",
        "pv_funds = donation/(1 + (1/nominal_rate))\n",
        "print(f\"The annula distribution would be ${pv_funds} which is less that the distribution in part (a) \\n it is better to delay distribution for one year.\")"
      ],
      "metadata": {
        "id": "Bz2PLIIEvHDE"
      },
      "execution_count": null,
      "outputs": []
    },
    {
      "cell_type": "markdown",
      "source": [
        "(c)\n",
        "\n",
        "$ PV = \\frac{C*(1 + i)}{1 + r} + \\frac{C*(1 + i)^2}{(1 + r)^2} + \\frac{C*(1 + i)^3}{(1 + r)^3} + ... (1 + i)\\left(\\frac{C}{1 +r} + \\frac{C*(1 + i)}{(1 + r)^2} + \\frac{C*(1 + i)^2}{(1 + r)^3} +...\\right) -> (1 + i)\\frac{C}{r - i} $"
      ],
      "metadata": {
        "id": "ou3h6m4C9sDZ"
      }
    },
    {
      "cell_type": "code",
      "source": [
        "# Preserving purchasing power. Waiting one year for first distribution.\n",
        "inflation = 2/100\n",
        "\n",
        "pv_funds_purch_power = ((nominal_rate-inflation)*donation)/(1 + inflation)\n",
        "f\"${pv_funds_purch_power} is the amount to pay to guarantee adjustments for inflation.\""
      ],
      "metadata": {
        "id": "xAat6Zz74LGq"
      },
      "execution_count": null,
      "outputs": []
    },
    {
      "cell_type": "markdown",
      "source": [
        "6 (a)\n",
        "- APR and EAR\n",
        "\n",
        "$ I =  \\left(1 + \\frac{R_{apr}}{k}   \\right)^k $\n",
        "\n",
        "$ (1 + r_{ear}) =  I - 1 $\n",
        "\n",
        "#part b is wrong calculation. keep working."
      ],
      "metadata": {
        "id": "v2JWkVaeZ4ma"
      }
    },
    {
      "cell_type": "code",
      "source": [
        "# APR compounded monthly. Find EAR.\n",
        "apr = 20/100\n",
        "k_m = 1*12\n",
        "ear = (1 + apr/k_m)**k_m - 1\n",
        "f'The monthly effective annual rate is {round((ear)*100, 4)}%'\n",
        "\n",
        "# (b)\n",
        "# APR Compounded daily.\n",
        "k_d = 1*365\n",
        "ear = 25/100\n",
        "apr = k_d*(sqrt((1 + ear)-1))\n",
        "apr\n",
        "#f'The daily effective annual rate is {round((ear_d)*100, 4)}%'"
      ],
      "metadata": {
        "id": "ddWNAoquYP_g"
      },
      "execution_count": null,
      "outputs": []
    },
    {
      "cell_type": "code",
      "source": [],
      "metadata": {
        "id": "SfNhmnqGcgJX"
      },
      "execution_count": null,
      "outputs": []
    }
  ]
}