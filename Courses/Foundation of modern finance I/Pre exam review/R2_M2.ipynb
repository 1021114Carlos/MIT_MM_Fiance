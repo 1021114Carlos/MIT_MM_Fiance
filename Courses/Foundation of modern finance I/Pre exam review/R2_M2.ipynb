{
  "nbformat": 4,
  "nbformat_minor": 0,
  "metadata": {
    "colab": {
      "private_outputs": true,
      "provenance": [],
      "authorship_tag": "ABX9TyPKW43PtmXtPuMLMkLljlFO",
      "include_colab_link": true
    },
    "kernelspec": {
      "name": "python3",
      "display_name": "Python 3"
    },
    "language_info": {
      "name": "python"
    }
  },
  "cells": [
    {
      "cell_type": "markdown",
      "metadata": {
        "id": "view-in-github",
        "colab_type": "text"
      },
      "source": [
        "<a href=\"https://colab.research.google.com/github/1021114Carlos/MIT_MM_Finance/blob/Finance-shop/Courses/Foundation%20of%20modern%20finance%20I/Pre%20exam%20review/R2_M2.ipynb\" target=\"_parent\"><img src=\"https://colab.research.google.com/assets/colab-badge.svg\" alt=\"Open In Colab\"/></a>"
      ]
    },
    {
      "cell_type": "code",
      "source": [
        "import numpy as np"
      ],
      "metadata": {
        "id": "l2HTpQ50tLFr"
      },
      "execution_count": null,
      "outputs": []
    },
    {
      "cell_type": "markdown",
      "source": [
        "# R2"
      ],
      "metadata": {
        "id": "X9cxT20rD8HH"
      }
    },
    {
      "cell_type": "markdown",
      "source": [
        "1.\n",
        "\n",
        "(a) Return on Bond?\n",
        "\n",
        "(b) Expected return of stock\n",
        "\n",
        "- Price = $ Φ_1*X_1 + Φ_2*X_2... $\n",
        "\n",
        "- Expected rate of return\n",
        "r = $ \\frac{E[X] - P}{P} = \\frac{P_1*X_1 + P_2*X_2}{P} - 1 $"
      ],
      "metadata": {
        "id": "2O6I0_vfpz34"
      }
    },
    {
      "cell_type": "code",
      "execution_count": null,
      "metadata": {
        "id": "O8MNhNIaV35S"
      },
      "outputs": [],
      "source": [
        "# Economic states; 1, 2, 3\n",
        "p1, p2, p3 = 0.3, 0.4, 0.3\n",
        "states = np.array([p1, p2, p3])\n",
        "bond_payoffs = np.array([100, 100, 100])\n",
        "bond_tradePrice = 96\n",
        "stock_payoffs = [120, 75, 130]\n",
        "stock_tradePrice = 80\n",
        "\n",
        "# Return on bond?\n",
        "bond_price = p1*100 + p2*100 + p3*100\n",
        "\n",
        "bond_expected_return = (bond_price/bond_tradePrice) -1\n",
        "print(f'Bond expected return is {round((bond_expected_return)*100, 4)}%')\n",
        "\n",
        "# Alternative approach to find  price\n",
        "bond_price_alternative = np.dot(states, bond_payoffs)\n",
        "bond_price_alternative\n",
        "\n",
        "# Expected return on Stock\n",
        "stock_price = p1*120 + p2*75 + p3*130\n",
        "\n",
        "# Alternative approach to find  price\n",
        "stock_price_alternative = np.dot(stock_payoffs, states)\n",
        "\n",
        "stock_expecte_return = (stock_price/stock_tradePrice) -1\n",
        "print(f'Stock return is {round((stock_expecte_return)*100, 4)}%')\n"
      ]
    },
    {
      "cell_type": "markdown",
      "source": [
        "2.\n",
        "\n",
        "Bond and stock price today?"
      ],
      "metadata": {
        "id": "I6RiXmVr1slm"
      }
    },
    {
      "cell_type": "code",
      "source": [
        "# Two economic states next year\n",
        "phi1, phi2 = 35/100, 55/100\n",
        "states_phi = np.array([phi1, phi2])\n",
        "bond_payoffs = np.array([100, 100])\n",
        "stock_payoffs = np.array([150, 40])\n",
        "\n",
        "# Bond price\n",
        "bond_price = phi1*100 + phi2*100\n",
        "\n",
        "bond_price_alternative = np.dot(states_phi, bond_payoffs)\n",
        "\n",
        "# Stock price\n",
        "stock_price = phi1*150 + phi2*40\n",
        "stock_price_alternative = np.dot(states_phi, stock_payoffs)\n",
        "\n",
        "print(f'The stock price is ${stock_price_alternative} and the bond price is ${bond_price_alternative}')"
      ],
      "metadata": {
        "id": "qS5A6WJ8aKi0"
      },
      "execution_count": null,
      "outputs": []
    },
    {
      "cell_type": "markdown",
      "source": [
        "3.\n",
        "\n",
        "Finding state prices."
      ],
      "metadata": {
        "id": "OQ3o7D184lLt"
      }
    },
    {
      "cell_type": "code",
      "source": [
        "# Three economic states\n",
        "bond_payoffs = np.array([100,100, 100])\n",
        "stock1_payoffs = np.array([250, 0, 500])\n",
        "stock2_payoffs = np.array([0, 0, 500])\n",
        "\n",
        "bond_tradePrice = 96\n",
        "stock1_tradePrice = 150\n",
        "stock2_tradePrice = 100\n",
        "\n",
        "investments = np.array([bond_payoffs, stock1_payoffs, stock2_payoffs])\n",
        "prices = np.array([bond_tradePrice, stock1_tradePrice, stock2_tradePrice])\n",
        "\n",
        "states = np.linalg.solve(investments, prices)\n",
        "states\n",
        "\n"
      ],
      "metadata": {
        "id": "HdCF98Pk4C5d"
      },
      "execution_count": null,
      "outputs": []
    },
    {
      "cell_type": "markdown",
      "source": [
        "4 (a)\n",
        "\n",
        "- Price and expected return of asset X?"
      ],
      "metadata": {
        "id": "shKfBZ9UdCDK"
      }
    },
    {
      "cell_type": "code",
      "source": [
        "# Current State prices. State prices re all equally likely.\n",
        "state_prices = np.array([0.2, 0.55, 0.2])\n",
        "# Payoffs of asset X\n",
        "asset_x = np.array([100, 80, 100])\n",
        "\n",
        "# First find price current price of asset X\n",
        "price_x = np.dot(state_prices, asset_x)\n",
        "\n",
        "# payoff of asset X\n",
        "state_price_likely = np.array([1/3, 1/3, 1/3])\n",
        "asset_x_payoffs = np.dot(asset_x, state_price_likely)\n",
        "\n",
        "# Find Expected return of asset X\n",
        "asset_x_return = asset_x_payoffs/price_x - 1\n",
        "print(f'The price of asset X is ${price_x}\\n The expected payoff of asset X is ${round(asset_x_payoffs, 4)}\\n and and the expected return of the asset is {round((asset_x_return)*100, 4)}%')"
      ],
      "metadata": {
        "id": "KA2PSjPh9RPq"
      },
      "execution_count": null,
      "outputs": []
    },
    {
      "cell_type": "markdown",
      "source": [
        "(b)\n",
        "\n",
        "* Price and expected return of asset Y?\n"
      ],
      "metadata": {
        "id": "tMeyUfr0hrwI"
      }
    },
    {
      "cell_type": "code",
      "source": [
        "# Payoffs of access Y\n",
        "asset_y = np.array([100, 100, 80])\n",
        "\n",
        "# First find the price of asset y\n",
        "price_y = np.dot(asset_y, state_prices)\n",
        "\n",
        "# Find payoff of asset Y\n",
        "asset_y_payoff = np.dot(state_price_likely, asset_y)\n",
        "\n",
        "# Find expected return of asset Y\n",
        "asset_y_return = (asset_y_payoff/price_y) - 1\n",
        "print(f'The price of asset Y is ${price_y}\\n The expected payoff of asset X is ${round(asset_y_payoff, 4)}\\n and and the expected return of the asset is {round((asset_y_return)*100, 4)}%')\n",
        "\n",
        "\n",
        "# Part C.\n"
      ],
      "metadata": {
        "id": "LvYj1SR_cTC7"
      },
      "execution_count": null,
      "outputs": []
    },
    {
      "cell_type": "markdown",
      "source": [
        "(c)\n",
        "\n",
        "* Explain the difference in price and returns on these assets.\n",
        "\n",
        "Asset X future payoff is less in one of the states with higher state number and asset Y pays less in one of the states with a lower state number."
      ],
      "metadata": {
        "id": "6jEbNCURppXj"
      }
    },
    {
      "cell_type": "markdown",
      "source": [
        "5\n",
        "\n",
        "(a) \\$1 today or tomorrow, which offer is the best option?"
      ],
      "metadata": {
        "id": "y2Fmtcu2qxND"
      }
    },
    {
      "cell_type": "code",
      "source": [
        "# Tommorrow will be given a year from now.\n",
        "today = 10000\n",
        "tomorrow = 11500\n",
        "interest_rate = 8/100\n",
        "\n",
        "# Find PV of tomorrow's dollar\n",
        "pv_tomorrow = tomorrow/(1 + interest_rate)\n",
        "pv_tomorrow\n",
        "\n",
        "# Find future value of a dollar today.\n",
        "fv_today = today*(1 + interest_rate)\n",
        "\n",
        "print(f'The PV of tomorrow\\'s dollar is ${round(pv_tomorrow, 4)} and the FV of today\\'s dollar is ${round(fv_today, 4)} \\nknowing this, i would take tomorrow\\'s dollar.')"
      ],
      "metadata": {
        "id": "VORi5qs_jRKT"
      },
      "execution_count": null,
      "outputs": []
    },
    {
      "cell_type": "markdown",
      "source": [
        "(b)\n",
        "\n",
        "- Measuring time and risk with same interest rate as in part (a)"
      ],
      "metadata": {
        "id": "aG3L8X3DxSXC"
      }
    },
    {
      "cell_type": "code",
      "source": [
        "tomorrow = 18000\n",
        "years = 10\n",
        "\n",
        "# PV of a dollar received in 10 years\n",
        "pv_tomorrow = tomorrow/(1 + interest_rate)**years\n",
        "\n",
        "# Value of today's dollar in 10 years.\n",
        "fv_today = today*(1 + interest_rate)**years\n",
        "\n",
        "print(f'The PV of tomorrow\\'s dollar is ${round(pv_tomorrow, 4)} and the FV of today\\'s dollar is ${round(fv_today, 4)} \\nknowing this, i would take today\\'s dollar.')"
      ],
      "metadata": {
        "id": "f7VFsvMQszAq"
      },
      "execution_count": null,
      "outputs": []
    },
    {
      "cell_type": "markdown",
      "source": [
        "6\n",
        "\n",
        "(a) Made purchased 20 years ago\n",
        "\n",
        "- Find average annual rate of return on purchase\n",
        "- Value of purchased have tripled since."
      ],
      "metadata": {
        "id": "ndxP_dAG0VSE"
      }
    },
    {
      "cell_type": "code",
      "source": [
        "# Current dollar value of that purchase is 3*dollar. (dollar = x)\n",
        "# find rate or return\n",
        "triple = 3\n",
        "rate_of_return = triple**(1/20) - 1\n",
        "f'The average is {round((rate_of_return)*100, 4)}%'"
      ],
      "metadata": {
        "id": "vNSuYzAPyxyg"
      },
      "execution_count": null,
      "outputs": []
    },
    {
      "cell_type": "markdown",
      "source": [
        "(b)\n",
        "\n",
        "- Assume that instead of the purchase I had invested that money in the market.\n",
        "- The average annual return in the market have been 10.2%.\n",
        "- By how much would the value of the money would have changed?"
      ],
      "metadata": {
        "id": "-5dJUgJF60i7"
      }
    },
    {
      "cell_type": "code",
      "source": [
        "annual_return = 10.2/100\n",
        "value_rate_change = (1 + annual_return)**20\n",
        "f'The change would have grown by {round(value_rate_change, 4)}'"
      ],
      "metadata": {
        "id": "DRBC29YM6NHI"
      },
      "execution_count": null,
      "outputs": []
    },
    {
      "cell_type": "markdown",
      "source": [
        "7\n",
        "\n",
        "Part 1."
      ],
      "metadata": {
        "id": "hx1cqupCC4JF"
      }
    },
    {
      "cell_type": "code",
      "source": [
        "rental_revenue = 650000\n",
        "rental_growth_realTerms = 3/100\n",
        "inflation = 2.5/100\n",
        "real_disc_rate = 6/100\n",
        "\n",
        "# (a)\n",
        "# Expected rental revenue next year in real terms.\n",
        "# FV in real terms = dollar*(1 + growth real terms)\n",
        "fv_rev_realTerms = round(rental_revenue*(1 + rental_growth_realTerms), 4)\n",
        "\n",
        "# (b)\n",
        "# PV of real rental revenue expected next year\n",
        "# PV real term = (dollar*(1 + growth in real terms))/(1 + real discount rate)\n",
        "pv_rental_rev_real = round(fv_rev_realTerms/(1 + real_disc_rate), 4)\n",
        "\n",
        "\n",
        "# (c)\n",
        "# Expected rental revenue in nominal terms next year.\n",
        "# Expected nominal terms   = dollar*(1 + growth)*(1 + inflation)\n",
        "expect_rev_nominalTerms = round(rental_revenue*(1 + rental_growth_realTerms)*(1 + inflation), 4)\n",
        "\n",
        "\n",
        "# (d)\n",
        "# PV in nominal terms\n",
        "# PV nominal terms = (dollar*(1 + growth)*(1 + inflation))/((1 + real discount rate)*(1 + inflation))\n",
        "pv_rev_nominaTerms = round(expect_rev_nominalTerms/((1 + 0.06)*(1 + 0.025)), 4)\n",
        "\n",
        "\n",
        "print(f'Today\\'s dollar amount: ${rental_revenue}  \\nexpected dollar in real terms: ${fv_rev_realTerms} \\nPv real term: ${pv_rental_rev_real} \\nExpected future dollar in nominal terms: ${expect_rev_nominalTerms} \\nPV in nominal terms: ${pv_rev_nominaTerms}')"
      ],
      "metadata": {
        "id": "GtIh8_YDARqz"
      },
      "execution_count": null,
      "outputs": []
    },
    {
      "cell_type": "markdown",
      "source": [
        "Part 2."
      ],
      "metadata": {
        "id": "giozykowxBXG"
      }
    },
    {
      "cell_type": "code",
      "source": [
        "# (e)\n",
        "# Expected revenue in subsequent years in real terms\n",
        "year = 4\n",
        "for t in range(1, year+1):\n",
        "  expec_dollar_realTerms = rental_revenue*(1 + rental_growth_realTerms)**t\n",
        "  print(f'The expected future dollar value in real terms is: ${round(expec_dollar_realTerms, 4)}')\n",
        "\n"
      ],
      "metadata": {
        "id": "0Q7Wb-WoHgtR"
      },
      "execution_count": null,
      "outputs": []
    },
    {
      "cell_type": "markdown",
      "source": [
        "Part 2 (f)\n",
        "\n",
        "$ PV = \\displaystyle\\sum_{i=1}^{N} \\frac{R_i}{(1 + real \\ discount \\ rate)^i} $"
      ],
      "metadata": {
        "id": "YpooPFil1e0n"
      }
    },
    {
      "cell_type": "code",
      "source": [
        "# PV real terms in subsequent years\n",
        "pv_dollar_realTerm = 0\n",
        "for t_rt in range(1, year+1):\n",
        "  pv_dollar_realTerm += (rental_revenue*(1 + rental_growth_realTerms)**t_rt)/(1 + real_disc_rate)**t_rt # I need a recursive function here\n",
        "f'PV of dollar in real terms is: ${round(pv_dollar_realTerm, 4)}'"
      ],
      "metadata": {
        "id": "i_XA1PBczbfo"
      },
      "execution_count": null,
      "outputs": []
    },
    {
      "cell_type": "markdown",
      "source": [
        "Part 2 (g)"
      ],
      "metadata": {
        "id": "QLOYvPMF7npU"
      }
    },
    {
      "cell_type": "code",
      "source": [
        "# Expected future dollar value in nominal term\n",
        "# g is the nominal growth rate g = (1 + growth)*(1 + inflation) - 1\n",
        "g = (1 + rental_growth_realTerms)*(1 + inflation) - 1\n",
        "year = 4\n",
        "\n",
        "for t in range(1, year+1):\n",
        "  expec_dollar_value_nominalTerm = rental_revenue*(1 + g)**t\n",
        "  print(f'Expected future value of dollar in nominal terms: ${round(expec_dollar_value_nominalTerm, 4)}')"
      ],
      "metadata": {
        "id": "ksAuP-Cb3day"
      },
      "execution_count": null,
      "outputs": []
    },
    {
      "cell_type": "markdown",
      "source": [
        "Part 2 (h)\n",
        "\n",
        "- Nominal discount rate formula\n",
        "\n",
        "1 + $ r_{nominal} = (1 + r_{real})(1 + inflation) $\n",
        "\n",
        "- PV formula\n",
        "\n",
        "$ PV = \\displaystyle\\sum_{i=1}^{n} \\frac{R_N,_i}{(1 + r_{nominla})^i} $"
      ],
      "metadata": {
        "id": "GcGLA9NW-OGl"
      }
    },
    {
      "cell_type": "code",
      "source": [
        "# PV of dollar in nominal terms\n",
        "nominal_rate = (1 + real_disc_rate)*(1 + inflation) - 1\n",
        "pv_dollar_nominalTerm = 0\n",
        "years = 4\n",
        "\n",
        "for t in range(1, years+1):\n",
        "  pv_dollar_nominalTerm += rental_revenue*(1 + g)**t/(1 + nominal_rate)**t\n",
        "f'PV of dollar in nominal terms is:    ${round(pv_dollar_nominalTerm, 4)}'"
      ],
      "metadata": {
        "id": "m6fqb76t8FuP"
      },
      "execution_count": null,
      "outputs": []
    },
    {
      "cell_type": "code",
      "source": [],
      "metadata": {
        "id": "ueIG3N9aAw5d"
      },
      "execution_count": null,
      "outputs": []
    },
    {
      "cell_type": "markdown",
      "source": [
        "#M2"
      ],
      "metadata": {
        "id": "WRCVZRuEDi3J"
      }
    },
    {
      "cell_type": "markdown",
      "source": [
        "1 (a)"
      ],
      "metadata": {
        "id": "mi5PFBPsGlVb"
      }
    },
    {
      "cell_type": "code",
      "source": [
        "# Three economic states next year\n",
        "# Probabilites and states (Phi)\n",
        "p1, p2, p3 = 30/100, 55/100, 15/100\n",
        "probabilities = [p1, p2, p3]\n",
        "phi1, phi2, phi3 = 40/100, 20/100, 10/100\n",
        "states = [phi1, phi2, phi3]\n",
        "bond_payoffs = [100, 100, 100]\n",
        "stock_payoffs = [85, 105, 125]\n",
        "\n",
        "# bond price?\n",
        "bond_price = np.dot(states, bond_payoffs)\n",
        "bond_price"
      ],
      "metadata": {
        "id": "qud1ivMNBh1h"
      },
      "execution_count": null,
      "outputs": []
    },
    {
      "cell_type": "markdown",
      "source": [
        "(b) Stock price?"
      ],
      "metadata": {
        "id": "Bd4O93uUItJY"
      }
    },
    {
      "cell_type": "code",
      "source": [
        "stock_price = np.dot(states, stock_payoffs)\n",
        "stock_price"
      ],
      "metadata": {
        "id": "0aU5hSmmIi-r"
      },
      "execution_count": null,
      "outputs": []
    },
    {
      "cell_type": "markdown",
      "source": [
        "(c) Expected return on Bond?"
      ],
      "metadata": {
        "id": "03mOBT8qJDzq"
      }
    },
    {
      "cell_type": "code",
      "source": [
        "expect_bond_return = np.dot(probabilities, bond_payoffs)\n",
        "expected_bond_return = (expect_bond_return/bond_price) - 1\n",
        "print(f'{round((expected_return)*100, 4)}%')"
      ],
      "metadata": {
        "id": "gw2AmK2nI60G"
      },
      "execution_count": null,
      "outputs": []
    },
    {
      "cell_type": "markdown",
      "source": [
        "(d) Expected retunr on Stock?"
      ],
      "metadata": {
        "id": "Xgp9KKxOKgso"
      }
    },
    {
      "cell_type": "code",
      "source": [
        "expect_stock_return = np.dot(probabilities, stock_payoffs)\n",
        "expected_stock_return = (expect_stock_return/stock_price) - 1\n",
        "print(f'{round((expected_stock_return)*100, 4)}%')"
      ],
      "metadata": {
        "id": "jpLbLKBDJ1K3"
      },
      "execution_count": null,
      "outputs": []
    },
    {
      "cell_type": "markdown",
      "source": [
        " 2 (a)\n",
        "\n",
        "    Asset    | State 1 payoff  | State 2 payoff | Current Price |\n",
        "    A        |     1.70        |       1.10     |     1.40      |\n",
        "    B        |     1.30        |       1.90     |     1.60      |\n",
        "\n",
        "- Both states are equally likely\n",
        "- State prices for State 1 and state 2?"
      ],
      "metadata": {
        "id": "eFnmph-2uPD5"
      }
    },
    {
      "cell_type": "code",
      "source": [
        "payoffs_A_B = [[1.70, 1.10], [1.30, 1.90]]\n",
        "prices_A_B = [1.40, 1.60]\n",
        "phi_A_B = np.linalg.solve(payoffs_A_B, prices_A_B)\n",
        "f'State prices for state 1 and 2 are {phi_A_B} respectibily.'"
      ],
      "metadata": {
        "id": "CaW6SvxnLJyA"
      },
      "execution_count": null,
      "outputs": []
    },
    {
      "cell_type": "markdown",
      "source": [
        "(b)\n",
        "\n",
        "    Asset | State 1 payoff | State 2 payoff |\n",
        "     C    |      $7.00     |      $9.5      |\n",
        "\n",
        "* Asset C Price?"
      ],
      "metadata": {
        "id": "bKtYKguwyJwn"
      }
    },
    {
      "cell_type": "code",
      "source": [
        "price_c = np.dot([7, 9.5], phi_A_B)\n",
        "f'The price of asset C is ${price_c}'\n"
      ],
      "metadata": {
        "id": "GsWFsEP1w-et"
      },
      "execution_count": null,
      "outputs": []
    },
    {
      "cell_type": "markdown",
      "source": [
        "3"
      ],
      "metadata": {
        "id": "kyciTshb2QSj"
      }
    },
    {
      "cell_type": "code",
      "source": [
        "future_amount = 100000\n",
        "interest_rate = 2.90/100\n",
        "years = 13\n",
        "pv = future_amount/(1 + interest_rate)**years\n",
        "pv"
      ],
      "metadata": {
        "id": "Ri8MDc4Ezbnf"
      },
      "execution_count": null,
      "outputs": []
    },
    {
      "cell_type": "markdown",
      "source": [
        "4 (a)"
      ],
      "metadata": {
        "id": "zO0vV6Id4h4N"
      }
    },
    {
      "cell_type": "code",
      "source": [
        "# Receive inheritance in the following times: now, 5, 10, 50\n",
        "inheritance = 1900000\n",
        "discount_rate = 3/100\n",
        "\n",
        "time = [0, 5, 10, 50]\n",
        "for t in time:\n",
        "  pv = inheritance/(1 + discount_rate)**t\n",
        "  print(f'PV ${round(pv, 4)}')\n",
        "print(f'The PV decreases as the time horizon increases and assuming that the discount rate remains constant.')\n"
      ],
      "metadata": {
        "id": "ySv1PPad3S_f"
      },
      "execution_count": null,
      "outputs": []
    },
    {
      "cell_type": "markdown",
      "source": [
        "(b)\n",
        "\n",
        "- Now discount rate is 7%"
      ],
      "metadata": {
        "id": "VvHpq88Z7Thq"
      }
    },
    {
      "cell_type": "code",
      "source": [
        "# Receive inheritance in the following times: now, 5, 10, 50\n",
        "inheritance = 1900000\n",
        "discount_rate = 7/100\n",
        "\n",
        "time = [0, 5, 10, 50]\n",
        "for t in time:\n",
        "  pv = inheritance/(1 + discount_rate)**t\n",
        "  print(f'PV ${round(pv, 4)}')\n",
        "print(f'The PV decreases as the time horizon increases and assuming that the discount rate remains constant.')"
      ],
      "metadata": {
        "id": "19mt-qRn5RM-"
      },
      "execution_count": null,
      "outputs": []
    },
    {
      "cell_type": "markdown",
      "source": [
        "5 (a)"
      ],
      "metadata": {
        "id": "w-PiROtX8qfJ"
      }
    },
    {
      "cell_type": "code",
      "source": [
        "interest_rate = 5/100\n",
        "years = 2020-1626\n",
        "amount = 24\n",
        "fv_dollar = amount*(1 + interest_rate)**years\n",
        "f'${round(fv_dollar, 4)}'"
      ],
      "metadata": {
        "id": "zbZagtmu7gMI"
      },
      "execution_count": null,
      "outputs": []
    },
    {
      "cell_type": "markdown",
      "source": [
        "(b) Interest rate now is 6%"
      ],
      "metadata": {
        "id": "l81sZ5HP-C0c"
      }
    },
    {
      "cell_type": "code",
      "source": [
        "interest_rate = 6/100\n",
        "years = 2020-1626\n",
        "amount = 24\n",
        "fv_dollar = amount*(1 + interest_rate)**years\n",
        "print(f'Increasing the interest rate increases the future value of the dollar. ${round(fv_dollar, 4)}')"
      ],
      "metadata": {
        "id": "chyPz2eu9TLd"
      },
      "execution_count": null,
      "outputs": []
    },
    {
      "cell_type": "markdown",
      "source": [
        "(c) Interest rate is 7%"
      ],
      "metadata": {
        "id": "79EOFEY0-oN2"
      }
    },
    {
      "cell_type": "code",
      "source": [
        "interest_rate = 7/100\n",
        "years = 2020-1626\n",
        "amount = 24\n",
        "fv_dollar = amount*(1 + interest_rate)**years\n",
        "print(f'Increasing the interest rate increases the future value of the dollar. ${round(fv_dollar, 4)}')"
      ],
      "metadata": {
        "id": "sBWmxJ4J-N2t"
      },
      "execution_count": null,
      "outputs": []
    },
    {
      "cell_type": "code",
      "source": [],
      "metadata": {
        "id": "QJ1jgL3P-vEN"
      },
      "execution_count": null,
      "outputs": []
    }
  ]
}