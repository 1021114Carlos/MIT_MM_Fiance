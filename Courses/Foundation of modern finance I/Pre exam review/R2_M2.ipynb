{
  "nbformat": 4,
  "nbformat_minor": 0,
  "metadata": {
    "colab": {
      "private_outputs": true,
      "provenance": [],
      "authorship_tag": "ABX9TyPasoW9F6u2F89HQI604K7F",
      "include_colab_link": true
    },
    "kernelspec": {
      "name": "python3",
      "display_name": "Python 3"
    },
    "language_info": {
      "name": "python"
    }
  },
  "cells": [
    {
      "cell_type": "markdown",
      "metadata": {
        "id": "view-in-github",
        "colab_type": "text"
      },
      "source": [
        "<a href=\"https://colab.research.google.com/github/1021114Carlos/MIT_MM_Finance/blob/Finance-shop/Courses/Foundation%20of%20modern%20finance%20I/Pre%20exam%20review/R2_M2.ipynb\" target=\"_parent\"><img src=\"https://colab.research.google.com/assets/colab-badge.svg\" alt=\"Open In Colab\"/></a>"
      ]
    },
    {
      "cell_type": "code",
      "source": [
        "import numpy as np"
      ],
      "metadata": {
        "id": "l2HTpQ50tLFr"
      },
      "execution_count": null,
      "outputs": []
    },
    {
      "cell_type": "markdown",
      "source": [
        "R2\n",
        "\n",
        "1.\n",
        "\n",
        "(a) Return on Bond?\n",
        "\n",
        "(b) Expected return of stock\n",
        "\n",
        "- Price = $ Φ_1*X_1 + Φ_2*X_2... $\n",
        "\n",
        "- Expected rate of return\n",
        "r = $ \\frac{E[X] - P}{P} = \\frac{P_1*X_1 + P_2*X_2}{P} - 1 $"
      ],
      "metadata": {
        "id": "2O6I0_vfpz34"
      }
    },
    {
      "cell_type": "code",
      "execution_count": null,
      "metadata": {
        "id": "O8MNhNIaV35S"
      },
      "outputs": [],
      "source": [
        "# Economic states; 1, 2, 3\n",
        "p1, p2, p3 = 0.3, 0.4, 0.3\n",
        "states = np.array([p1, p2, p3])\n",
        "bond_payoffs = np.array([100, 100, 100])\n",
        "bond_tradePrice = 96\n",
        "stock_payoffs = [120, 75, 130]\n",
        "stock_tradePrice = 80\n",
        "\n",
        "# Return on bond?\n",
        "bond_price = p1*100 + p2*100 + p3*100\n",
        "\n",
        "bond_expected_return = (bond_price/bond_tradePrice) -1\n",
        "print(f'Bond expected return is {round((bond_expected_return)*100, 4)}%')\n",
        "\n",
        "# Alternative approach to find  price\n",
        "bond_price_alternative = np.dot(states, bond_payoffs)\n",
        "bond_price_alternative\n",
        "\n",
        "# Expected return on Stock\n",
        "stock_price = p1*120 + p2*75 + p3*130\n",
        "\n",
        "# Alternative approach to find  price\n",
        "stock_price_alternative = np.dot(stock_payoffs, states)\n",
        "\n",
        "stock_expecte_return = (stock_price/stock_tradePrice) -1\n",
        "print(f'Stock return is {round((stock_expecte_return)*100, 4)}%')\n"
      ]
    },
    {
      "cell_type": "markdown",
      "source": [
        "2.\n",
        "\n",
        "Bond and stock price today?"
      ],
      "metadata": {
        "id": "I6RiXmVr1slm"
      }
    },
    {
      "cell_type": "code",
      "source": [
        "# Two economic states next year\n",
        "phi1, phi2 = 35/100, 55/100\n",
        "states_phi = np.array([phi1, phi2])\n",
        "bond_payoffs = np.array([100, 100])\n",
        "stock_payoffs = np.array([150, 40])\n",
        "\n",
        "# Bond price\n",
        "bond_price = phi1*100 + phi2*100\n",
        "\n",
        "bond_price_alternative = np.dot(states_phi, bond_payoffs)\n",
        "\n",
        "# Stock price\n",
        "stock_price = phi1*150 + phi2*40\n",
        "stock_price_alternative = np.dot(states_phi, stock_payoffs)\n",
        "\n",
        "print(f'The stock price is ${stock_price_alternative} and the bond price is ${bond_price_alternative}')"
      ],
      "metadata": {
        "id": "qS5A6WJ8aKi0"
      },
      "execution_count": null,
      "outputs": []
    },
    {
      "cell_type": "markdown",
      "source": [
        "3.\n",
        "\n",
        "Finding state prices."
      ],
      "metadata": {
        "id": "OQ3o7D184lLt"
      }
    },
    {
      "cell_type": "code",
      "source": [
        "# Three economic states\n",
        "bond_payoffs = np.array([100,100, 100])\n",
        "stock1_payoffs = np.array([250, 0, 500])\n",
        "stock2_payoffs = np.array([0, 0, 500])\n",
        "\n",
        "bond_tradePrice = 96\n",
        "stock1_tradePrice = 150\n",
        "stock2_tradePrice = 100\n",
        "\n",
        "investments = np.array([bond_payoffs, stock1_payoffs, stock2_payoffs])\n",
        "prices = np.array([bond_tradePrice, stock1_tradePrice, stock2_tradePrice])\n",
        "\n",
        "states = np.linalg.solve(investments, prices)\n",
        "states\n",
        "\n"
      ],
      "metadata": {
        "id": "HdCF98Pk4C5d"
      },
      "execution_count": null,
      "outputs": []
    },
    {
      "cell_type": "markdown",
      "source": [
        "4 (a)\n",
        "\n",
        "- Price and expected return of asset X?"
      ],
      "metadata": {
        "id": "shKfBZ9UdCDK"
      }
    },
    {
      "cell_type": "code",
      "source": [
        "# Current State prices. State prices re all equally likely.\n",
        "state_prices = np.array([0.2, 0.55, 0.2])\n",
        "# Payoffs of asset X\n",
        "asset_x = np.array([100, 80, 100])\n",
        "\n",
        "# First find price current price of asset X\n",
        "price_x = np.dot(state_prices, asset_x)\n",
        "\n",
        "# payoff of asset X\n",
        "state_price_likely = np.array([1/3, 1/3, 1/3])\n",
        "asset_x_payoffs = np.dot(asset_x, state_price_likely)\n",
        "\n",
        "# Find Expected return of asset X\n",
        "asset_x_return = asset_x_payoffs/price_x - 1\n",
        "print(f'The price of asset X is ${price_x}\\n The expected payoff of asset X is ${round(asset_x_payoffs, 4)}\\n and and the expected return of the asset is {round((asset_x_return)*100, 4)}%')"
      ],
      "metadata": {
        "id": "KA2PSjPh9RPq"
      },
      "execution_count": null,
      "outputs": []
    },
    {
      "cell_type": "markdown",
      "source": [
        "(b)\n",
        "\n",
        "* Price and expected return of asset Y?\n"
      ],
      "metadata": {
        "id": "tMeyUfr0hrwI"
      }
    },
    {
      "cell_type": "code",
      "source": [
        "# Payoffs of access Y\n",
        "asset_y = np.array([100, 100, 80])\n",
        "\n",
        "# First find the price of asset y\n",
        "price_y = np.dot(asset_y, state_prices)\n",
        "\n",
        "# Find payoff of asset Y\n",
        "asset_y_payoff = np.dot(state_price_likely, asset_y)\n",
        "\n",
        "# Find expected return of asset Y\n",
        "asset_y_return = (asset_y_payoff/price_y) - 1\n",
        "print(f'The price of asset Y is ${price_y}\\n The expected payoff of asset X is ${round(asset_y_payoff, 4)}\\n and and the expected return of the asset is {round((asset_y_return)*100, 4)}%')\n",
        "\n",
        "\n",
        "# Part C.\n"
      ],
      "metadata": {
        "id": "LvYj1SR_cTC7"
      },
      "execution_count": null,
      "outputs": []
    },
    {
      "cell_type": "markdown",
      "source": [
        "(c)\n",
        "\n",
        "* Explain the difference in price and returns on these assets.\n",
        "\n",
        "Asset X future payoff is less in one of the states with higher state number and asset Y pays less in one of the states with a lower state number."
      ],
      "metadata": {
        "id": "6jEbNCURppXj"
      }
    },
    {
      "cell_type": "markdown",
      "source": [
        "5\n",
        "\n",
        "(a) \\$1 today or tomorrow, which offer is the best option?"
      ],
      "metadata": {
        "id": "y2Fmtcu2qxND"
      }
    },
    {
      "cell_type": "code",
      "source": [
        "# Tommorrow will be given a year from now.\n",
        "today = 10000\n",
        "tomorrow = 11500\n",
        "interest_rate = 8/100\n",
        "\n",
        "# Find PV of tomorrow's dollar\n",
        "pv_tomorrow = tomorrow/(1 + interest_rate)\n",
        "pv_tomorrow\n",
        "\n",
        "# Find future value of a dollar today.\n",
        "fv_today = today*(1 + interest_rate)\n",
        "\n",
        "print(f'The PV of tomorrow\\'s dollar is ${round(pv_tomorrow, 4)} and the FV of today\\'s dollar is ${round(fv_today, 4)} \\nknowing this, i would take tomorrow\\'s dollar.')"
      ],
      "metadata": {
        "id": "VORi5qs_jRKT"
      },
      "execution_count": null,
      "outputs": []
    },
    {
      "cell_type": "markdown",
      "source": [
        "(b)\n",
        "\n",
        "- Measuring time and risk with same interest rate as in part (a)"
      ],
      "metadata": {
        "id": "aG3L8X3DxSXC"
      }
    },
    {
      "cell_type": "code",
      "source": [
        "tomorrow = 18000\n",
        "years = 10\n",
        "\n",
        "# PV of a dollar received in 10 years\n",
        "pv_tomorrow = tomorrow/(1 + interest_rate)**years\n",
        "\n",
        "# Value of today's dollar in 10 years.\n",
        "fv_today = today*(1 + interest_rate)**years\n",
        "\n",
        "print(f'The PV of tomorrow\\'s dollar is ${round(pv_tomorrow, 4)} and the FV of today\\'s dollar is ${round(fv_today, 4)} \\nknowing this, i would take today\\'s dollar.')"
      ],
      "metadata": {
        "id": "f7VFsvMQszAq"
      },
      "execution_count": null,
      "outputs": []
    },
    {
      "cell_type": "markdown",
      "source": [
        "6\n",
        "\n",
        "(a) Made purchased 20 years ago\n",
        "\n",
        "- Find average annual rate of return on purchase\n",
        "- Value of purchased have tripled since."
      ],
      "metadata": {
        "id": "ndxP_dAG0VSE"
      }
    },
    {
      "cell_type": "code",
      "source": [
        "# Current dollar value of that purchase is 3*dollar. (dollar = x)\n",
        "# find rate or return\n",
        "triple = 3\n",
        "rate_of_return = triple**(1/20) - 1\n",
        "f'The average is {round((rate_of_return)*100, 4)}%'"
      ],
      "metadata": {
        "id": "vNSuYzAPyxyg"
      },
      "execution_count": null,
      "outputs": []
    },
    {
      "cell_type": "markdown",
      "source": [
        "(b)\n",
        "\n",
        "- Assume that instead of the purchase I had invested that money in the market.\n",
        "- The average annual return in the market have been 10.2%.\n",
        "- By how much would the value of the money would have changed?"
      ],
      "metadata": {
        "id": "-5dJUgJF60i7"
      }
    },
    {
      "cell_type": "code",
      "source": [
        "annual_return = 10.2/100\n",
        "value_rate_change = (1 + annual_return)**20\n",
        "f'The change would have grown by {round(value_rate_change, 4)}'"
      ],
      "metadata": {
        "id": "DRBC29YM6NHI"
      },
      "execution_count": null,
      "outputs": []
    },
    {
      "cell_type": "markdown",
      "source": [
        "7\n",
        "\n",
        "(a) Expected rental revenue next year in real terms."
      ],
      "metadata": {
        "id": "hx1cqupCC4JF"
      }
    },
    {
      "cell_type": "code",
      "source": [
        "rental_revenue = 650000\n",
        "rental_growth_realTerms = 3/100\n",
        "inflation = 2.5/100\n",
        "real_disc_rate = 6/100\n",
        "\n",
        "# Find FV of revenue\n",
        "fv_rev = rental_revenue*(1 + rental_growth_realTerms)"
      ],
      "metadata": {
        "id": "GtIh8_YDARqz"
      },
      "execution_count": null,
      "outputs": []
    },
    {
      "cell_type": "code",
      "source": [],
      "metadata": {
        "id": "0Q7Wb-WoHgtR"
      },
      "execution_count": null,
      "outputs": []
    }
  ]
}