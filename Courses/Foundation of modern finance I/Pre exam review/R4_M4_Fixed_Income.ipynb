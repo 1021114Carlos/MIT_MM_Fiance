{
  "nbformat": 4,
  "nbformat_minor": 0,
  "metadata": {
    "colab": {
      "private_outputs": true,
      "provenance": [],
      "authorship_tag": "ABX9TyN7EJphmirvoKnpbd3YJ7Eh",
      "include_colab_link": true
    },
    "kernelspec": {
      "name": "python3",
      "display_name": "Python 3"
    },
    "language_info": {
      "name": "python"
    }
  },
  "cells": [
    {
      "cell_type": "markdown",
      "metadata": {
        "id": "view-in-github",
        "colab_type": "text"
      },
      "source": [
        "<a href=\"https://colab.research.google.com/github/1021114Carlos/MIT_MM_Finance/blob/Finance-shop/Courses/Foundation%20of%20modern%20finance%20I/Pre%20exam%20review/R4_M4_Fixed_Income.ipynb\" target=\"_parent\"><img src=\"https://colab.research.google.com/assets/colab-badge.svg\" alt=\"Open In Colab\"/></a>"
      ]
    },
    {
      "cell_type": "markdown",
      "source": [
        "#R4"
      ],
      "metadata": {
        "id": "5pSKBd7vqlIX"
      }
    },
    {
      "cell_type": "markdown",
      "source": [
        "- Pricing a coupon bond\n",
        "\n",
        "B = $ \\displaystyle \\sum_{t=1}^T (C_t*B_t) + (P*B_T) = \\frac{C_1}{1 + r_1} + ... + \\frac{C_{t-1}}{(1 + r_{t-1})^{t-1}} + \\frac{C_t + P}{(1 + r_t)^t} $"
      ],
      "metadata": {
        "id": "rpRxs4P7qnWT"
      }
    },
    {
      "cell_type": "markdown",
      "source": [
        "- Yield to Maturity of a bond denoted by y\n",
        "\n",
        "B = $ \\displaystyle\\sum_{t=1}^{T} \\frac{C_t}{(1 + y)^t} + \\frac{P}{(1 + y)^T}$\n",
        "\n"
      ],
      "metadata": {
        "id": "H4DFevjOxrdF"
      }
    },
    {
      "cell_type": "markdown",
      "source": [
        "- YTM v Coupon Rate\n",
        "\n",
        "Bond price is inversely related to YTM (YTM denoted by y)\n",
        "\n",
        "B = $ \\displaystyle\\sum_{t=1}^{T} \\frac{c}{(1 + y)^t} + \\frac{1}{(1 + y)^T} = \\frac{c}{y} + \\frac{1}{(1 + y)^T}\\ *\\left(1 - \\frac{c}{y}\\right) $\n",
        "\n",
        "* c = y $ \\ IFF \\ $ B = 1\n",
        "* Bond sell at discount if c < y\n",
        "* Bond sell at premium if c > y\n",
        "* BOnd sell at par if c = y"
      ],
      "metadata": {
        "id": "WZSVRHKg2kd0"
      }
    },
    {
      "cell_type": "markdown",
      "source": [
        "- Measure of bond risk:\n",
        "$ -\\frac{1}{b}\\frac{dB}{dy} $  Called Modified Duration (MD)\n",
        "\n",
        "* for discount bond, $ (MD)B_t = -\\frac{1}{b}\\frac{dB}{dy} = \\frac{t}{1 + y} $\n",
        "\n",
        "* Physical timing of CF, $ \\ (1 + y)(MD)B_t = t $"
      ],
      "metadata": {
        "id": "XSmjsn_S7hn1"
      }
    },
    {
      "cell_type": "markdown",
      "source": [
        "- Macaulay Duration (MD): weighted avg term to maturity\n",
        "\n",
        "D = $ \\displaystyle\\sum_{t = 1}^T \\left(\\frac{PV(CF_t)}{B}\\right)t = \\frac{1}{B} \\displaystyle\\sum_{t = 1}^T \\left(\\frac{CF_t}{(1 + y)^t}\\right)t$\n",
        "\n",
        "- Macaulay Duration is proportional to Modified Duration: $ MD = \\frac{D}{1 + y} $"
      ],
      "metadata": {
        "id": "Mq0DbBJo9Q-n"
      }
    },
    {
      "cell_type": "code",
      "execution_count": null,
      "metadata": {
        "id": "ZOcjsWH2qcfl"
      },
      "outputs": [],
      "source": []
    }
  ]
}