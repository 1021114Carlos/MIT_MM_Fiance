{
  "nbformat": 4,
  "nbformat_minor": 0,
  "metadata": {
    "colab": {
      "private_outputs": true,
      "provenance": [],
      "authorship_tag": "ABX9TyNVkae2v8tBE3P0ukPEzTuJ",
      "include_colab_link": true
    },
    "kernelspec": {
      "name": "python3",
      "display_name": "Python 3"
    },
    "language_info": {
      "name": "python"
    }
  },
  "cells": [
    {
      "cell_type": "markdown",
      "metadata": {
        "id": "view-in-github",
        "colab_type": "text"
      },
      "source": [
        "<a href=\"https://colab.research.google.com/github/1021114Carlos/MIT_MM_Finance/blob/Finance-shop/Courses/Foundation%20of%20modern%20finance%20I/Pre%20exam%20review/R4_M4_Fixed_Income.ipynb\" target=\"_parent\"><img src=\"https://colab.research.google.com/assets/colab-badge.svg\" alt=\"Open In Colab\"/></a>"
      ]
    },
    {
      "cell_type": "code",
      "source": [
        "import numpy as np\n",
        "from math import sqrt, pow"
      ],
      "metadata": {
        "id": "S2MlnXQeOndu"
      },
      "execution_count": null,
      "outputs": []
    },
    {
      "cell_type": "markdown",
      "source": [
        "#Formulas"
      ],
      "metadata": {
        "id": "5pSKBd7vqlIX"
      }
    },
    {
      "cell_type": "markdown",
      "source": [
        "- Pricing a coupon bond\n",
        "\n",
        "B = $ \\displaystyle \\sum_{t=1}^T (C_t*B_t) + (P*B_T) = \\frac{C_1}{1 + r_1} + ... + \\frac{C_{t-1}}{(1 + r_{t-1})^{t-1}} + \\frac{C_t + P}{(1 + r_t)^t} $\n",
        "\n",
        "_________________________________________________________________________"
      ],
      "metadata": {
        "id": "rpRxs4P7qnWT"
      }
    },
    {
      "cell_type": "markdown",
      "source": [
        "- Yield to Maturity of a bond denoted by y\n",
        "\n",
        "B = $ \\displaystyle\\sum_{t=1}^{T} \\frac{C_t}{(1 + y)^t} + \\frac{P}{(1 + y)^T}$\n",
        "\n",
        "______________________________________________________________________________\n",
        "\n"
      ],
      "metadata": {
        "id": "H4DFevjOxrdF"
      }
    },
    {
      "cell_type": "markdown",
      "source": [
        "- YTM v Coupon Rate\n",
        "\n",
        "Bond price is inversely related to YTM (YTM denoted by y)\n",
        "\n",
        "B = $ \\displaystyle\\sum_{t=1}^{T} \\frac{c}{(1 + y)^t} + \\frac{1}{(1 + y)^T} = \\frac{c}{y} + \\frac{1}{(1 + y)^T}\\ *\\left(1 - \\frac{c}{y}\\right) $\n",
        "\n",
        "* c = y $ \\ IFF \\ $ B = 1\n",
        "* Bond sell at discount if c < y\n",
        "* Bond sell at premium if c > y\n",
        "* BOnd sell at par if c = y\n",
        "\n",
        "_____________________________________________________________________________"
      ],
      "metadata": {
        "id": "WZSVRHKg2kd0"
      }
    },
    {
      "cell_type": "markdown",
      "source": [
        "- Measure of bond risk:\n",
        "$ -\\frac{1}{b}\\frac{dB}{dy} $  Called Modified Duration (MD)\n",
        "\n",
        "* for discount bond, $ (MD)B_t = -\\frac{1}{b}\\frac{dB}{dy} = \\frac{t}{1 + y} $\n",
        "\n",
        "* Physical timing of CF, $ \\ (1 + y)(MD)B_t = t $\n",
        "\n",
        "__________________________________________________________________________"
      ],
      "metadata": {
        "id": "XSmjsn_S7hn1"
      }
    },
    {
      "cell_type": "markdown",
      "source": [
        "- Macaulay Duration (MD): weighted avg term to maturity\n",
        "\n",
        "D = $ \\displaystyle\\sum_{t = 1}^T \\left(\\frac{PV(CF_t)}{B}\\right)t = \\frac{1}{B} \\displaystyle\\sum_{t = 1}^T \\left(\\frac{CF_t}{(1 + y)^t}\\right)t$\n",
        "\n",
        "- Macaulay Duration is proportional to Modified Duration: $ MD = \\frac{D}{1 + y} $\n",
        "\n",
        "__________________________________________________________________________"
      ],
      "metadata": {
        "id": "Mq0DbBJo9Q-n"
      }
    },
    {
      "cell_type": "markdown",
      "source": [
        "#R4"
      ],
      "metadata": {
        "id": "5Z5HSM6uIwyv"
      }
    },
    {
      "cell_type": "markdown",
      "source": [
        "1\n",
        "\n",
        "    Bonds   | Year 1 |    Year 2  |  Year  3  | Bond Price |\n",
        "      A     |  $100  |      0     |    0      |   $97.50   |\n",
        "      B     |  $3    |    $103    |    0      |   $96.00   |\n",
        "      C     |  $3.50 |    $3.50   |   $103.50 |   $98.00   |\n",
        "- Spot prices?"
      ],
      "metadata": {
        "id": "Um8AqWzuJQjG"
      }
    },
    {
      "cell_type": "code",
      "execution_count": null,
      "metadata": {
        "id": "ZOcjsWH2qcfl"
      },
      "outputs": [],
      "source": [
        "# bond_info = np.array([[100, 0, 0], [3, 103, 0], [3.5, 3.5, 103.5]])\n",
        "# bond_prices = np.array([97.5, 96, 98])\n",
        "# bond_payoffs = np.array([100, 100, 100])\n",
        "# bonds_spotPrices = np.linalg.solve(bond_info, bond_prices)\n",
        "# bonds_spotPrices\n",
        "# Code above was because i am trying to solve using matrices\n",
        "\n",
        "bond = {'A': 100, 'B': [3, 103], 'C': [3.5, 3.5, 103.5]}\n",
        "price = {'A': 97.5, 'B': 96, 'C': 98}\n",
        "\n",
        "# Spot interest rate of Bond A. spr = spot price rate\n",
        "spr_A = (bond['A']/price['A']) - 1\n",
        "\n",
        "# Spot interest rate of Bond B. spr = spot price rate\n",
        "b1 = bond['B'][0]/(1 + spr_A)\n",
        "spr_B = sqrt(bond['B'][1]/(price['B'] - b1)) - 1\n",
        "\n",
        "# Spot interest rate of Bond C. spr = spot price rate\n",
        "c1 = bond[\"C\"][0]/(1 + spr_A) + bond['C'][1]/((1 + spr_B)**2)\n",
        "spr_C = np.cbrt(bond['C'][2]/(price['C'] - c1)) - 1\n",
        "spr_C\n",
        "\n",
        "print(f'The spot prices for Bonds A, B, and C are: r1 = {round((spr_A)*100, 4)}%, r2 = {round((spr_B)*100, 4)}%, r3 = {round((spr_C)*100, 4)}%, respectively')"
      ]
    },
    {
      "cell_type": "markdown",
      "source": [
        "2 HAVE TO WORK ON THIS. (will solve in google spreadsheet for now)\n",
        "\n",
        "                        Risk-free Bonds\n",
        "    Bond  |  Face Value  |  Maturity  |  Coupon Rate  |  Price\n",
        "    A     |      $100    |     1      |      0%       |  $96.9\n",
        "    B     |      $100    |     2      |     2.75%     |  $99\n",
        "    C     |      $100    |     3      |      0%       |  $88.55\n",
        "    D     |      $100    |     3      |      3%       |  $99.5\n",
        "\n",
        "(a) Arbitrage Oppportunity?"
      ],
      "metadata": {
        "id": "xSaXI2fvyptt"
      }
    },
    {
      "cell_type": "code",
      "source": [
        "bonds = [[100, 0, 0], [((2.75/100)*100), (((2.75/100)*100) + 100), 0], [0, 0, 100]]\n",
        "payoffs = [96.9, 99, 88.55]\n",
        "prices = np.linalg.solve(bonds, payoffs)\n",
        "f'{prices*100}'"
      ],
      "metadata": {
        "id": "eFVotGRLheQN"
      },
      "execution_count": null,
      "outputs": []
    },
    {
      "cell_type": "code",
      "source": [
        "payoffs = np.array([-96.9, -99, -88.55, -99.5])\n",
        "\n",
        "bondsT = np.array([[100, 0, 0], [((2.75/100)*100), (((2.75/100)*100) + 100), 0], [0, 0, 100], [((3/100)*100), ((3/100)*100), (((3/100)*100) + 100)]])\n",
        "bonds = np.append([payoffs], bondsT, axis=0)\n",
        "\n",
        "\n",
        "arbitrage = np.array([[1, 0, 0, 0]])\n",
        "prices = np.linalg.solve(bonds, arbitrage)"
      ],
      "metadata": {
        "id": "Rj7nLej3QiP2"
      },
      "execution_count": null,
      "outputs": []
    },
    {
      "cell_type": "code",
      "source": [],
      "metadata": {
        "id": "O-ejxnzTRC1k"
      },
      "execution_count": null,
      "outputs": []
    },
    {
      "cell_type": "code",
      "source": [],
      "metadata": {
        "id": "qAcdIQCaCkGv"
      },
      "execution_count": null,
      "outputs": []
    }
  ]
}